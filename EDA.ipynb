{
 "cells": [
  {
   "cell_type": "code",
   "execution_count": 1,
   "id": "fc07de10",
   "metadata": {},
   "outputs": [],
   "source": [
    "import pandas as pd\n",
    "import numpy as np\n",
    "import matplotlib.pyplot as plt\n",
    "csv_path  = \"M2_2.18mM_pressure_o2_release.csv\"\n",
    "time_col  = \"Time (s)\"                     # your column is actually hours\n",
    "press_col = \"DWT denoised pressure (kPa)\"  # pressure in kPa"
   ]
  },
  {
   "cell_type": "code",
   "execution_count": 2,
   "id": "d687cb4c",
   "metadata": {},
   "outputs": [],
   "source": [
    "df = pd.read_csv(csv_path)\n",
    "df.columns = [c.strip() for c in df.columns]"
   ]
  },
  {
   "cell_type": "markdown",
   "id": "963a8a93",
   "metadata": {},
   "source": [
    "### Using the full equation to see if there is a difference in the total umol produced by 1. keeping pressure and other units in Kpa   and 2. Keeping pressure and other units in atm\n",
    "\n",
    "\n",
    "\n",
    "\n",
    "\"\"\" Units used:\n",
    "\n",
    "KH = 1.283e-5          \n",
    "R = 8.314462  \n",
    "\n",
    "\n",
    "for atm,\n",
    "KH = 1.3e-3                        \n",
    "R=   0.082057366080960            \n",
    "\n",
    "\n",
    "Sticking with K instead of C. The ideal gas law and henry's law both scale with kelvin so using celcius scaling will become inappropriate.\n",
    "\n",
    "\n",
    "Using : Vg / (R * T) + kH * Vsol\n",
    "\n",
    "\n",
    "\"\"\""
   ]
  },
  {
   "cell_type": "code",
   "execution_count": 4,
   "id": "732d7099",
   "metadata": {},
   "outputs": [
    {
     "name": "stdout",
     "output_type": "stream",
     "text": [
      "max values of o2 in umol produced by keeping pressure in kpa : 5.325480890636497\n",
      "max values of o2 in umol produced by keeping pressure in atm : 5.325480890636478\n",
      "Max |difference|: 1.865175e-14 µmol\n"
     ]
    }
   ],
   "source": [
    "t_h   = pd.to_numeric(df[time_col], errors=\"coerce\")\n",
    "P_kPa = pd.to_numeric(df[press_col], errors=\"coerce\")\n",
    "mask = t_h.notna() & P_kPa.notna()\n",
    "t_h, P_kPa = t_h[mask].reset_index(drop=True), P_kPa[mask].reset_index(drop=True)\n",
    "t_h = t_h - t_h.iloc[0]  # start time at 0 h\n",
    "P_atm = P_kPa / 101.325\n",
    "\n",
    "\n",
    "# Geometry & constants\n",
    "Vg   = 0.002     # L\n",
    "Vsol = 0.006     # L\n",
    "T_K  = 297.15    # K\n",
    "\n",
    "# --- (A) kPa-guided calculation ---\n",
    "R_kPa  = 8.31446261815324              # L·kPa·mol^-1·K^-1\n",
    "kH_kPa = 1.3e-3 / 101.325              # mol·L^-1·kPa^-1 (~1.283e-5)\n",
    "A_kPa  = Vg/(R_kPa*T_K) + kH_kPa*Vsol  # mol/kPa\n",
    "n_tot_kPa_umol = P_kPa * A_kPa * 1e6   # µmol\n",
    "\n",
    "# --- (B) atm-guided calculation ---\n",
    "R_atm  = 0.082057366080960             # L·atm·mol^-1·K^-1\n",
    "kH_atm = 1.3e-3                        # mol·L^-1·atm^-1\n",
    "A_atm  = Vg/(R_atm*T_K) + kH_atm*Vsol  # mol/atm\n",
    "n_tot_atm_umol = P_atm * A_atm * 1e6   # µmol\n",
    "\n",
    "# Residuals\n",
    "final_kpa = max(n_tot_kPa_umol)\n",
    "final_atm = max(n_tot_atm_umol)\n",
    "diff_umol = final_kpa - final_atm\n",
    "print(f\"max values of o2 in umol produced by keeping pressure in kpa : {final_kpa}\")\n",
    "print(f\"max values of o2 in umol produced by keeping pressure in atm : {final_atm}\")\n",
    "print(f\"Max |difference|: {np.abs(diff_umol):.6e} µmol\")"
   ]
  },
  {
   "cell_type": "markdown",
   "id": "1a1de970",
   "metadata": {},
   "source": [
    "The above results because of Kpa vs atm just looks like rounding noise. There is no major difference in the total umol produced by both"
   ]
  },
  {
   "cell_type": "markdown",
   "id": "b1b64bad",
   "metadata": {},
   "source": [
    "### Vant hoff modelling for KH\n"
   ]
  },
  {
   "cell_type": "markdown",
   "id": "1ca61421",
   "metadata": {},
   "source": [
    "### KK modelling for KH\n"
   ]
  }
 ],
 "metadata": {
  "kernelspec": {
   "display_name": "thesis (3.12.10)",
   "language": "python",
   "name": "python3"
  },
  "language_info": {
   "codemirror_mode": {
    "name": "ipython",
    "version": 3
   },
   "file_extension": ".py",
   "mimetype": "text/x-python",
   "name": "python",
   "nbconvert_exporter": "python",
   "pygments_lexer": "ipython3",
   "version": "3.12.10"
  }
 },
 "nbformat": 4,
 "nbformat_minor": 5
}
